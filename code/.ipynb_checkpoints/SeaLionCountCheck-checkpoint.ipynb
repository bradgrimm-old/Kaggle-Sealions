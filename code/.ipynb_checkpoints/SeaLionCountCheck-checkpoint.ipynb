{
 "cells": [
  {
   "cell_type": "markdown",
   "metadata": {
    "deletable": true,
    "editable": true
   },
   "source": [
    "# Dot Checks\n",
    "Using a cleaned up version of the code from our other notebook, let's iterate over each image and see if our numbers are matching up."
   ]
  },
  {
   "cell_type": "code",
   "execution_count": 22,
   "metadata": {
    "collapsed": true,
    "deletable": true,
    "editable": true
   },
   "outputs": [],
   "source": [
    "import pandas as pd\n",
    "import matplotlib.pyplot as plt\n",
    "import matplotlib.mlab as mlab\n",
    "import matplotlib.image as mpimg\n",
    "import numpy as np\n",
    "from PIL import Image\n",
    "from scipy import sparse\n",
    "from scipy import ndimage\n",
    "from scipy.ndimage import gaussian_filter\n",
    "from skimage import data\n",
    "from skimage import img_as_float\n",
    "from skimage import morphology, measure\n",
    "from skimage.color import label2rgb\n",
    "\n",
    "%matplotlib inline"
   ]
  },
  {
   "cell_type": "code",
   "execution_count": 23,
   "metadata": {
    "collapsed": false,
    "deletable": true,
    "editable": true
   },
   "outputs": [],
   "source": [
    "jpeg_threshold = 0.15\n",
    "\n",
    "\n",
    "def find_all_dots(raw_path, dot_path, expected_counts, jpeg_threshold=0.15, mask_dilation=5):\n",
    "    raw_image = mpimg.imread(raw_path)\n",
    "    dot_image = mpimg.imread(dot_path)\n",
    "    \n",
    "    # Convert to floats. Will save us headache later.\n",
    "    raw_image = raw_image.astype(float)\n",
    "    dot_image = dot_image.astype(float)\n",
    "    raw_image = raw_image / raw_image.max()\n",
    "    dot_image = dot_image / dot_image.max()\n",
    "\n",
    "    # Dot images have some black artifacts. Let's mask those out.\n",
    "    dot_norm = np.linalg.norm(dot_image, axis=2)\n",
    "    threshold = (dot_norm.max() - dot_norm.min()) * 0.005\n",
    "    initial_mask_1d = dot_norm <= threshold\n",
    "\n",
    "    for i in range(mask_dilation):\n",
    "        initial_mask_1d = ndimage.binary_dilation(initial_mask_1d)\n",
    "\n",
    "    # Broadcast to 3d for true image mask.\n",
    "    _, initial_mask = np.broadcast_arrays(dot_image, initial_mask_1d[..., None])\n",
    "\n",
    "    # Remove the background. Mask with the original image.\n",
    "    dot_diff = np.linalg.norm(dot_image - raw_image, axis=2)\n",
    "    dot_diff[initial_mask[:, :, 0]] = 0\n",
    "\n",
    "    # Remove jpeg artifact noise.\n",
    "    dot_diff[dot_diff < jpeg_threshold] = 0\n",
    "\n",
    "    def mask_image(m, mask, c):\n",
    "        mask_1d = mask < 0.01\n",
    "        _, mask_3d = np.broadcast_arrays(m, mask_1d[..., None])\n",
    "        m[mask_3d] = c\n",
    "\n",
    "    dots = dot_image.copy()\n",
    "    mask_image(dots, dot_diff, 0)\n",
    "\n",
    "    # Other ways to consider removing noise.\n",
    "    dot_diff_eroded = dot_diff > 0.01\n",
    "    dot_diff_eroded = morphology.closing(dot_diff_eroded)\n",
    "    dot_diff_eroded = ndimage.binary_erosion(dot_diff_eroded)\n",
    "    #dot_diff_eroded = ndimage.binary_erosion(dot_diff_eroded)\n",
    "    dots = dot_image.copy()\n",
    "    mask_image(dots, dot_diff_eroded, 0)\n",
    "\n",
    "    labeled_dots, label_count = morphology.label(dot_diff_eroded, return_num=True, connectivity=2)\n",
    "    print 'Labels={}, Expected={}'.format(label_count, expected_counts)"
   ]
  },
  {
   "cell_type": "code",
   "execution_count": 21,
   "metadata": {
    "collapsed": false
   },
   "outputs": [
    {
     "name": "stdout",
     "output_type": "stream",
     "text": [
      "Labels=946, Expected=946\n",
      "Labels=34, Expected=34\n",
      "Labels=58, Expected=60\n",
      "Labels=28333, Expected=99\n",
      "Labels=17, Expected=17\n",
      "Labels=47, Expected=47\n",
      "Labels=45, Expected=45\n",
      "Labels=2745, Expected=60\n",
      "Labels=146, Expected=145\n",
      "Labels=3289, Expected=116\n",
      "Labels=21, Expected=21\n"
     ]
    }
   ],
   "source": [
    "values = pd.read_csv('../input/Train/train.csv')\n",
    "\n",
    "def check_counts(i, threshold=0.15, dilation=5):\n",
    "    expected_counts = sum(values.iloc[i][1:])\n",
    "    raw_path = '../input/Train/{}.jpg'.format(i)\n",
    "    dot_path = '../input/TrainDotted/{}.jpg'.format(i)\n",
    "    find_all_dots(raw_path, dot_path, expected_counts, threshold, dilation)\n",
    "    \n",
    "for i in range(11):\n",
    "    check_counts(i)"
   ]
  }
 ],
 "metadata": {
  "kernelspec": {
   "display_name": "Python 2",
   "language": "python",
   "name": "python2"
  },
  "language_info": {
   "codemirror_mode": {
    "name": "ipython",
    "version": 2
   },
   "file_extension": ".py",
   "mimetype": "text/x-python",
   "name": "python",
   "nbconvert_exporter": "python",
   "pygments_lexer": "ipython2",
   "version": "2.7.10"
  }
 },
 "nbformat": 4,
 "nbformat_minor": 0
}
